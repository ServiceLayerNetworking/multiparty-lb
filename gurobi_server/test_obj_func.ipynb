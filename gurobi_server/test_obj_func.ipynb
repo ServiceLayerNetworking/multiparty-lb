{
 "cells": [
  {
   "cell_type": "code",
   "execution_count": 3,
   "metadata": {},
   "outputs": [
    {
     "data": {
      "text/plain": [
       "[0, -0.16666666666666666, -0.16666666666666666]"
      ]
     },
     "execution_count": 3,
     "metadata": {},
     "output_type": "execute_result"
    }
   ],
   "source": [
    "import math\n",
    "\n",
    "caps = [0, 1/6., 1/6.]\n",
    "\n",
    "loads = [0, 1/3, 1/3]\n",
    "\n",
    "sp_caps = [c-l for c, l in zip(caps, loads)]\n",
    "\n",
    "sp_caps"
   ]
  },
  {
   "cell_type": "code",
   "execution_count": 33,
   "metadata": {},
   "outputs": [
    {
     "data": {
      "text/plain": [
       "3.0"
      ]
     },
     "execution_count": 33,
     "metadata": {},
     "output_type": "execute_result"
    }
   ],
   "source": [
    "obj = sum([math.log(l) for l in loads]) + sum([c for c in sp_caps])\n",
    "obj"
   ]
  },
  {
   "cell_type": "code",
   "execution_count": 34,
   "metadata": {},
   "outputs": [
    {
     "data": {
      "text/plain": [
       "9.0"
      ]
     },
     "execution_count": 34,
     "metadata": {},
     "output_type": "execute_result"
    }
   ],
   "source": [
    "sum_sp_cap = sum([c for c in sp_caps])\n",
    "\n",
    "obj = sum([math.log(l) + sum_sp_cap for l in loads])\n",
    "obj"
   ]
  },
  {
   "cell_type": "code",
   "execution_count": 35,
   "metadata": {},
   "outputs": [
    {
     "data": {
      "text/plain": [
       "4.1588830833596715"
      ]
     },
     "execution_count": 35,
     "metadata": {},
     "output_type": "execute_result"
    }
   ],
   "source": [
    "sum_sp_cap = sum([c for c in sp_caps])\n",
    "\n",
    "obj = sum([math.log(l + sum_sp_cap) for l in loads])\n",
    "obj"
   ]
  },
  {
   "cell_type": "code",
   "execution_count": 27,
   "metadata": {},
   "outputs": [
    {
     "data": {
      "text/plain": [
       "np.float64(0.0)"
      ]
     },
     "execution_count": 27,
     "metadata": {},
     "output_type": "execute_result"
    }
   ],
   "source": [
    "import numpy as np\n",
    "\n",
    "caps = [2, 2, 2]\n",
    "\n",
    "loads = [2, 2, 2]\n",
    "\n",
    "sp_caps = [c-l for c, l in zip(caps, loads)]\n",
    "\n",
    "\n",
    "# calculate variance in sp_caps\n",
    "var_sp_caps = np.var(sp_caps)\n",
    "var_sp_caps"
   ]
  },
  {
   "cell_type": "code",
   "execution_count": 26,
   "metadata": {},
   "outputs": [
    {
     "name": "stdout",
     "output_type": "stream",
     "text": [
      "[0.0, 0.0, 33.33333333333333]\n",
      "-3.5065578973199814\n"
     ]
    }
   ],
   "source": [
    "import math\n",
    "\n",
    "demands = list(map(lambda x: x*100, [0., 2/3., 2/3.]))\n",
    "\n",
    "allocs = list(map(lambda x: x*100, [0., 2/3., 1/3.]))\n",
    "\n",
    "shares = [1, 2, 1]\n",
    "\n",
    "sp_caps = [(d-a)*s for d, a, s in zip(demands, allocs, shares)]\n",
    "\n",
    "print(sp_caps)\n",
    "\n",
    "print(sum([-math.log(s) for s in sp_caps if s > 0]))"
   ]
  },
  {
   "cell_type": "code",
   "execution_count": 27,
   "metadata": {},
   "outputs": [
    {
     "name": "stdout",
     "output_type": "stream",
     "text": [
      "[0.0, 33.333333333333314, 16.666666666666657]\n",
      "-6.319968614080016\n"
     ]
    }
   ],
   "source": [
    "import math\n",
    "\n",
    "demands = list(map(lambda x: x*100, [0., 2/3., 2/3.]))\n",
    "\n",
    "allocs = list(map(lambda x: x*100, [0., 1/2., 1/2.]))\n",
    "\n",
    "shares = [1, 2, 1]\n",
    "\n",
    "sp_caps = [(d-a)*s for d, a, s in zip(demands, allocs, shares)]\n",
    "\n",
    "print(sp_caps)\n",
    "\n",
    "print(sum([-math.log(s) for s in sp_caps if s > 0]))"
   ]
  },
  {
   "cell_type": "code",
   "execution_count": 8,
   "metadata": {},
   "outputs": [],
   "source": [
    "def run_obj(allocs):\n",
    "\n",
    "    demands = list(map(lambda x: x*100, [1., 2/3., 2/3.]))\n",
    "\n",
    "    allocs = list(map(lambda x: x*100, allocs))\n",
    "\n",
    "    shares = [1, 2, 1]\n",
    "\n",
    "    sp_caps = [a for d, a in zip(demands, allocs)]\n",
    "\n",
    "    print(\"allocs:\", allocs)\n",
    "    print(\"sp_caps:\", sp_caps)\n",
    "    print(\"obj:\", sum([(w/sum(shares))*math.log(s) for s, w in zip(sp_caps, shares) if s > 0]))"
   ]
  },
  {
   "cell_type": "code",
   "execution_count": 11,
   "metadata": {},
   "outputs": [
    {
     "name": "stdout",
     "output_type": "stream",
     "text": [
      "allocs: [15000.0, 50.0, 50.0]\n",
      "sp_caps: [15000.0, 50.0, 50.0]\n",
      "obj: 5.337968624092197\n",
      "allocs: [10000.0, 66.66666666666666, 33.33333333333333]\n",
      "sp_caps: [10000.0, 66.66666666666666, 33.33333333333333]\n",
      "obj: 5.279077106264006\n",
      "allocs: [10000.0, 62.5, 37.5]\n",
      "sp_caps: [10000.0, 62.5, 37.5]\n",
      "obj: 5.276253604609316\n"
     ]
    }
   ],
   "source": [
    "run_obj([150., 1/2., 1/2.])\n",
    "run_obj([100., 2/3., 1/3.])\n",
    "run_obj([100., (2/4.)+(1/8.), (1/4.)+(1/8.)])"
   ]
  },
  {
   "cell_type": "markdown",
   "metadata": {},
   "source": [
    "Can you enunciate what you want?\n",
    "\n",
    "- do you want per fairness\n",
    "\n",
    "- you want to increase the \n",
    "\n",
    "If \n",
    "(45, 45)"
   ]
  },
  {
   "cell_type": "code",
   "execution_count": null,
   "metadata": {},
   "outputs": [],
   "source": []
  }
 ],
 "metadata": {
  "kernelspec": {
   "display_name": "Python 3",
   "language": "python",
   "name": "python3"
  },
  "language_info": {
   "codemirror_mode": {
    "name": "ipython",
    "version": 3
   },
   "file_extension": ".py",
   "mimetype": "text/x-python",
   "name": "python",
   "nbconvert_exporter": "python",
   "pygments_lexer": "ipython3",
   "version": "3.10.12"
  }
 },
 "nbformat": 4,
 "nbformat_minor": 2
}
