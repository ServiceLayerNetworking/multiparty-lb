{
 "cells": [
  {
   "cell_type": "code",
   "execution_count": 6,
   "metadata": {},
   "outputs": [
    {
     "data": {
      "text/plain": [
       "[0, -0.16666666666666666, -0.16666666666666666]"
      ]
     },
     "execution_count": 6,
     "metadata": {},
     "output_type": "execute_result"
    }
   ],
   "source": [
    "import math\n",
    "\n",
    "caps = [0, 1/6., 1/6.]\n",
    "\n",
    "loads = [0, 1/3, 1/3]\n",
    "\n",
    "sp_caps = [c-l for c, l in zip(caps, loads)]\n",
    "\n",
    "sp_caps"
   ]
  },
  {
   "cell_type": "code",
   "execution_count": 33,
   "metadata": {},
   "outputs": [
    {
     "data": {
      "text/plain": [
       "3.0"
      ]
     },
     "execution_count": 33,
     "metadata": {},
     "output_type": "execute_result"
    }
   ],
   "source": [
    "obj = sum([math.log(l) for l in loads]) + sum([c for c in sp_caps])\n",
    "obj"
   ]
  },
  {
   "cell_type": "code",
   "execution_count": 34,
   "metadata": {},
   "outputs": [
    {
     "data": {
      "text/plain": [
       "9.0"
      ]
     },
     "execution_count": 34,
     "metadata": {},
     "output_type": "execute_result"
    }
   ],
   "source": [
    "sum_sp_cap = sum([c for c in sp_caps])\n",
    "\n",
    "obj = sum([math.log(l) + sum_sp_cap for l in loads])\n",
    "obj"
   ]
  },
  {
   "cell_type": "code",
   "execution_count": 35,
   "metadata": {},
   "outputs": [
    {
     "data": {
      "text/plain": [
       "4.1588830833596715"
      ]
     },
     "execution_count": 35,
     "metadata": {},
     "output_type": "execute_result"
    }
   ],
   "source": [
    "sum_sp_cap = sum([c for c in sp_caps])\n",
    "\n",
    "obj = sum([math.log(l + sum_sp_cap) for l in loads])\n",
    "obj"
   ]
  },
  {
   "cell_type": "code",
   "execution_count": 27,
   "metadata": {},
   "outputs": [
    {
     "data": {
      "text/plain": [
       "np.float64(0.0)"
      ]
     },
     "execution_count": 27,
     "metadata": {},
     "output_type": "execute_result"
    }
   ],
   "source": [
    "import numpy as np\n",
    "\n",
    "caps = [2, 2, 2]\n",
    "\n",
    "loads = [2, 2, 2]\n",
    "\n",
    "sp_caps = [c-l for c, l in zip(caps, loads)]\n",
    "\n",
    "\n",
    "# calculate variance in sp_caps\n",
    "var_sp_caps = np.var(sp_caps)\n",
    "var_sp_caps"
   ]
  },
  {
   "cell_type": "code",
   "execution_count": 26,
   "metadata": {},
   "outputs": [
    {
     "name": "stdout",
     "output_type": "stream",
     "text": [
      "[0.0, 0.0, 33.33333333333333]\n",
      "-3.5065578973199814\n"
     ]
    }
   ],
   "source": [
    "import math\n",
    "\n",
    "demands = list(map(lambda x: x*100, [0., 2/3., 2/3.]))\n",
    "\n",
    "allocs = list(map(lambda x: x*100, [0., 2/3., 1/3.]))\n",
    "\n",
    "shares = [1, 2, 1]\n",
    "\n",
    "sp_caps = [(d-a)*s for d, a, s in zip(demands, allocs, shares)]\n",
    "\n",
    "print(sp_caps)\n",
    "\n",
    "print(sum([-math.log(s) for s in sp_caps if s > 0]))"
   ]
  },
  {
   "cell_type": "code",
   "execution_count": 27,
   "metadata": {},
   "outputs": [
    {
     "name": "stdout",
     "output_type": "stream",
     "text": [
      "[0.0, 33.333333333333314, 16.666666666666657]\n",
      "-6.319968614080016\n"
     ]
    }
   ],
   "source": [
    "import math\n",
    "\n",
    "demands = list(map(lambda x: x*100, [0., 2/3., 2/3.]))\n",
    "\n",
    "allocs = list(map(lambda x: x*100, [0., 1/2., 1/2.]))\n",
    "\n",
    "shares = [1, 2, 1]\n",
    "\n",
    "sp_caps = [(d-a)*s for d, a, s in zip(demands, allocs, shares)]\n",
    "\n",
    "print(sp_caps)\n",
    "\n",
    "print(sum([-math.log(s) for s in sp_caps if s > 0]))"
   ]
  },
  {
   "cell_type": "code",
   "execution_count": 61,
   "metadata": {},
   "outputs": [],
   "source": [
    "def run_obj(allocs):\n",
    "\n",
    "    demands = list(map(lambda x: x*100, [0., 2/3., 2/3.]))\n",
    "\n",
    "    allocs = list(map(lambda x: x*100, allocs))\n",
    "\n",
    "    shares = [1, 1, 1]\n",
    "\n",
    "    sp_caps = [a for d, a in zip(demands, allocs)]\n",
    "\n",
    "    print(\"allocs:\", allocs)\n",
    "    print(\"sp_caps:\", sp_caps)\n",
    "    print(\"obj:\", sum([(w/sum(shares))*math.log(s) for s, w in zip(sp_caps, shares) if s > 0]))"
   ]
  },
  {
   "cell_type": "code",
   "execution_count": 62,
   "metadata": {},
   "outputs": [
    {
     "name": "stdout",
     "output_type": "stream",
     "text": [
      "allocs: [0.0, 50.0, 50.0]\n",
      "sp_caps: [0.0, 50.0, 50.0]\n",
      "obj: 2.6080153369520973\n",
      "allocs: [0.0, 66.66666666666666, 33.33333333333333]\n",
      "sp_caps: [0.0, 66.66666666666666, 33.33333333333333]\n",
      "obj: 2.568754325066636\n",
      "allocs: [0.0, 62.5, 37.5]\n",
      "sp_caps: [0.0, 62.5, 37.5]\n",
      "obj: 2.5865024965729067\n"
     ]
    }
   ],
   "source": [
    "run_obj([0., 1/2., 1/2.])\n",
    "run_obj([0., 2/3., 1/3.])\n",
    "run_obj([0., (2/4.)+(1/8.), (1/4.)+(1/8.)])"
   ]
  }
 ],
 "metadata": {
  "kernelspec": {
   "display_name": "Python 3",
   "language": "python",
   "name": "python3"
  },
  "language_info": {
   "codemirror_mode": {
    "name": "ipython",
    "version": 3
   },
   "file_extension": ".py",
   "mimetype": "text/x-python",
   "name": "python",
   "nbconvert_exporter": "python",
   "pygments_lexer": "ipython3",
   "version": "3.10.12"
  }
 },
 "nbformat": 4,
 "nbformat_minor": 2
}
